{
  "nbformat": 4,
  "nbformat_minor": 0,
  "metadata": {
    "colab": {
      "provenance": [],
      "collapsed_sections": [
        "L2WMwL-Gso19",
        "wvQYUdPbsvSR",
        "aKwa73YYsm2f",
        "3iFQgPl49qaz"
      ],
      "authorship_tag": "ABX9TyOatrosVotLAYHXpipoZTtr",
      "include_colab_link": true
    },
    "kernelspec": {
      "name": "python3",
      "display_name": "Python 3"
    },
    "language_info": {
      "name": "python"
    }
  },
  "cells": [
    {
      "cell_type": "markdown",
      "metadata": {
        "id": "view-in-github",
        "colab_type": "text"
      },
      "source": [
        "<a href=\"https://colab.research.google.com/github/Belivins/Infotecks_task/blob/master/Examples.ipynb\" target=\"_parent\"><img src=\"https://colab.research.google.com/assets/colab-badge.svg\" alt=\"Open In Colab\"/></a>"
      ]
    },
    {
      "cell_type": "markdown",
      "source": [
        "# Slots and dict"
      ],
      "metadata": {
        "id": "L2WMwL-Gso19"
      }
    },
    {
      "cell_type": "code",
      "execution_count": null,
      "metadata": {
        "id": "sedelj26U2t_"
      },
      "outputs": [],
      "source": [
        "class ExampleDict:\n",
        "  def __init__(self):\n",
        "    self.a = 'A'\n",
        "    self.b = 'B'\n",
        "\n",
        "class ExampleSlots:\n",
        "  __slots__ = [\"a\", \"b\"]\n",
        "\n",
        "  def __init__(self):\n",
        "    self.a = 'A'\n",
        "    self.b = 'B'"
      ]
    },
    {
      "cell_type": "code",
      "source": [
        "ex_dict = ExampleDict()\n",
        "ex_dict.__dict__"
      ],
      "metadata": {
        "colab": {
          "base_uri": "https://localhost:8080/"
        },
        "id": "Gh7A9xpcV6Xc",
        "outputId": "1e1c2cf9-cd01-4a6e-c1ac-9eac06a98b69"
      },
      "execution_count": null,
      "outputs": [
        {
          "output_type": "execute_result",
          "data": {
            "text/plain": [
              "{'a': 'A', 'b': 'B'}"
            ]
          },
          "metadata": {},
          "execution_count": 7
        }
      ]
    },
    {
      "cell_type": "code",
      "source": [
        "ex_slot = ExampleSlots()\n",
        "ex_slot.__slots__\n"
      ],
      "metadata": {
        "id": "COurqctJW4fv"
      },
      "execution_count": null,
      "outputs": []
    },
    {
      "cell_type": "markdown",
      "source": [
        "# lambda, map, zip"
      ],
      "metadata": {
        "id": "wvQYUdPbsvSR"
      }
    },
    {
      "cell_type": "code",
      "source": [
        "L = [1, 2, 3, 4]\n",
        "list(map(lambda x: x**2, L))"
      ],
      "metadata": {
        "colab": {
          "base_uri": "https://localhost:8080/"
        },
        "id": "430gi3B7Vv7w",
        "outputId": "655491ac-d490-43a6-f6e1-797f34bb364a"
      },
      "execution_count": null,
      "outputs": [
        {
          "output_type": "execute_result",
          "data": {
            "text/plain": [
              "[1, 4, 9, 16]"
            ]
          },
          "metadata": {},
          "execution_count": 1
        }
      ]
    },
    {
      "cell_type": "code",
      "source": [
        "list(map(str, L))"
      ],
      "metadata": {
        "colab": {
          "base_uri": "https://localhost:8080/"
        },
        "id": "JcOP2XtzV0wA",
        "outputId": "047c0868-ef09-47e8-eb88-938587e16d21"
      },
      "execution_count": null,
      "outputs": [
        {
          "output_type": "execute_result",
          "data": {
            "text/plain": [
              "['1', '2', '3', '4']"
            ]
          },
          "metadata": {},
          "execution_count": 4
        }
      ]
    },
    {
      "cell_type": "code",
      "source": [
        "tuple(zip(('a','b','c','d','e'),(1,2,3,4,5)))"
      ],
      "metadata": {
        "colab": {
          "base_uri": "https://localhost:8080/"
        },
        "id": "saPPpUikV545",
        "outputId": "16f202de-f116-4280-ffd2-6aca332bf44a"
      },
      "execution_count": null,
      "outputs": [
        {
          "output_type": "execute_result",
          "data": {
            "text/plain": [
              "(('a', 1), ('b', 2), ('c', 3), ('d', 4), ('e', 5))"
            ]
          },
          "metadata": {},
          "execution_count": 7
        }
      ]
    },
    {
      "cell_type": "code",
      "source": [
        "tuple(zip(('a','b','c','d','e'),(0,1)))"
      ],
      "metadata": {
        "colab": {
          "base_uri": "https://localhost:8080/"
        },
        "id": "erqz_rjwsWyY",
        "outputId": "edf20d9e-f335-4b88-a005-d9ecfe4102b3"
      },
      "execution_count": 2,
      "outputs": [
        {
          "output_type": "execute_result",
          "data": {
            "text/plain": [
              "(('a', 0), ('b', 1))"
            ]
          },
          "metadata": {},
          "execution_count": 2
        }
      ]
    },
    {
      "cell_type": "markdown",
      "source": [
        "# Распаковка элементов из последовательностей произвольной длины"
      ],
      "metadata": {
        "id": "aKwa73YYsm2f"
      }
    },
    {
      "cell_type": "code",
      "source": [
        "from functools import reduce"
      ],
      "metadata": {
        "id": "QzcAkpS91Nu9"
      },
      "execution_count": 4,
      "outputs": []
    },
    {
      "cell_type": "code",
      "source": [
        "def avg(array):\n",
        "  return reduce(lambda x, y: x + y, array) / len(array)"
      ],
      "metadata": {
        "id": "EQCdfWnN0wYi"
      },
      "execution_count": 7,
      "outputs": []
    },
    {
      "cell_type": "code",
      "source": [
        "def drop_first_last(grades):\n",
        "  first, *middle, last = grades\n",
        "  return middle\n",
        "  # return avg(middle)"
      ],
      "metadata": {
        "id": "hnsxNN1Fs2GB"
      },
      "execution_count": 10,
      "outputs": []
    },
    {
      "cell_type": "code",
      "source": [
        "posl_ocenok = [4,5,3,4,5,2,3,4,5]\n",
        "drop_first_last(posl_ocenok)"
      ],
      "metadata": {
        "colab": {
          "base_uri": "https://localhost:8080/"
        },
        "id": "xR9x9luF1-MO",
        "outputId": "08c60135-46c2-414f-ef93-53ada89df0e9"
      },
      "execution_count": 11,
      "outputs": [
        {
          "output_type": "execute_result",
          "data": {
            "text/plain": [
              "[5, 3, 4, 5, 2, 3, 4]"
            ]
          },
          "metadata": {},
          "execution_count": 11
        }
      ]
    },
    {
      "cell_type": "code",
      "source": [
        "*all_without_last, last_ocenka = posl_ocenok\n",
        "all_without_last, last_ocenka"
      ],
      "metadata": {
        "colab": {
          "base_uri": "https://localhost:8080/"
        },
        "id": "KZaiEUys2lVO",
        "outputId": "66faeffd-dfe4-49bc-d5da-84eaaae39472"
      },
      "execution_count": 13,
      "outputs": [
        {
          "output_type": "execute_result",
          "data": {
            "text/plain": [
              "([4, 5, 3, 4, 5, 2, 3, 4], 5)"
            ]
          },
          "metadata": {},
          "execution_count": 13
        }
      ]
    },
    {
      "cell_type": "markdown",
      "source": [
        "Пееременная со звездочкой всегда будет списком"
      ],
      "metadata": {
        "id": "Td-Rz1ut2yDr"
      }
    },
    {
      "cell_type": "markdown",
      "source": [
        "# Yield и генераторы"
      ],
      "metadata": {
        "id": "bFIivCVa8Fov"
      }
    },
    {
      "cell_type": "code",
      "source": [
        "def frange(start, stop, increment):\n",
        "  x = start\n",
        "  while x < stop:\n",
        "    yield x\n",
        "    x += increment"
      ],
      "metadata": {
        "id": "qlQGI-NC2rlL"
      },
      "execution_count": 14,
      "outputs": []
    },
    {
      "cell_type": "code",
      "source": [
        "for n in frange(0, 4, 0.5):\n",
        "  print(n)"
      ],
      "metadata": {
        "colab": {
          "base_uri": "https://localhost:8080/"
        },
        "id": "jX9QqMsH8kk_",
        "outputId": "bc4631c3-c222-462e-d358-9b24f369ed0e"
      },
      "execution_count": 15,
      "outputs": [
        {
          "output_type": "stream",
          "name": "stdout",
          "text": [
            "0\n",
            "0.5\n",
            "1.0\n",
            "1.5\n",
            "2.0\n",
            "2.5\n",
            "3.0\n",
            "3.5\n"
          ]
        }
      ]
    },
    {
      "cell_type": "code",
      "source": [
        "f = frange(0, 1, 0.5)\n",
        "next(f)\n",
        "next(f)\n",
        "next(f) # После завершения генератор остается пустым"
      ],
      "metadata": {
        "colab": {
          "base_uri": "https://localhost:8080/",
          "height": 218
        },
        "id": "J53mRTzH8qJP",
        "outputId": "f0fdbf0b-c1a9-4931-e0c8-a7450459efd8"
      },
      "execution_count": 20,
      "outputs": [
        {
          "output_type": "error",
          "ename": "StopIteration",
          "evalue": "ignored",
          "traceback": [
            "\u001b[0;31m---------------------------------------------------------------------------\u001b[0m",
            "\u001b[0;31mStopIteration\u001b[0m                             Traceback (most recent call last)",
            "\u001b[0;32m<ipython-input-20-8f1fe431ad93>\u001b[0m in \u001b[0;36m<cell line: 4>\u001b[0;34m()\u001b[0m\n\u001b[1;32m      2\u001b[0m \u001b[0mnext\u001b[0m\u001b[0;34m(\u001b[0m\u001b[0mf\u001b[0m\u001b[0;34m)\u001b[0m\u001b[0;34m\u001b[0m\u001b[0;34m\u001b[0m\u001b[0m\n\u001b[1;32m      3\u001b[0m \u001b[0mnext\u001b[0m\u001b[0;34m(\u001b[0m\u001b[0mf\u001b[0m\u001b[0;34m)\u001b[0m\u001b[0;34m\u001b[0m\u001b[0;34m\u001b[0m\u001b[0m\n\u001b[0;32m----> 4\u001b[0;31m \u001b[0mnext\u001b[0m\u001b[0;34m(\u001b[0m\u001b[0mf\u001b[0m\u001b[0;34m)\u001b[0m\u001b[0;34m\u001b[0m\u001b[0;34m\u001b[0m\u001b[0m\n\u001b[0m",
            "\u001b[0;31mStopIteration\u001b[0m: "
          ]
        }
      ]
    },
    {
      "cell_type": "code",
      "source": [
        "a = (i for i in range(2))"
      ],
      "metadata": {
        "id": "ubAyHFI49TPT"
      },
      "execution_count": 48,
      "outputs": []
    },
    {
      "cell_type": "code",
      "source": [
        "next(a)"
      ],
      "metadata": {
        "colab": {
          "base_uri": "https://localhost:8080/",
          "height": 181
        },
        "id": "Xf68yJvF9aaT",
        "outputId": "449361a9-c0a5-4dd2-dee4-1f4e987828af"
      },
      "execution_count": 28,
      "outputs": [
        {
          "output_type": "error",
          "ename": "StopIteration",
          "evalue": "ignored",
          "traceback": [
            "\u001b[0;31m---------------------------------------------------------------------------\u001b[0m",
            "\u001b[0;31mStopIteration\u001b[0m                             Traceback (most recent call last)",
            "\u001b[0;32m<ipython-input-28-15841f3f11d4>\u001b[0m in \u001b[0;36m<cell line: 1>\u001b[0;34m()\u001b[0m\n\u001b[0;32m----> 1\u001b[0;31m \u001b[0mnext\u001b[0m\u001b[0;34m(\u001b[0m\u001b[0ma\u001b[0m\u001b[0;34m)\u001b[0m\u001b[0;34m\u001b[0m\u001b[0;34m\u001b[0m\u001b[0m\n\u001b[0m",
            "\u001b[0;31mStopIteration\u001b[0m: "
          ]
        }
      ]
    },
    {
      "cell_type": "code",
      "source": [
        "list(a)"
      ],
      "metadata": {
        "colab": {
          "base_uri": "https://localhost:8080/"
        },
        "id": "23VIno5kCSuy",
        "outputId": "8aa9bfe8-f9c3-4127-afcd-ef44dfda1613"
      },
      "execution_count": 49,
      "outputs": [
        {
          "output_type": "execute_result",
          "data": {
            "text/plain": [
              "[0, 1]"
            ]
          },
          "metadata": {},
          "execution_count": 49
        }
      ]
    },
    {
      "cell_type": "markdown",
      "source": [
        "# in и not in"
      ],
      "metadata": {
        "id": "3iFQgPl49qaz"
      }
    },
    {
      "cell_type": "code",
      "source": [
        "posl_ocenok = [4,5,3,4,5,2,3,4,5]\n",
        "4 in posl_ocenok"
      ],
      "metadata": {
        "colab": {
          "base_uri": "https://localhost:8080/"
        },
        "id": "vWZRS6L99uVO",
        "outputId": "d2527677-eaf0-4b97-f5a5-a07f805cf779"
      },
      "execution_count": 29,
      "outputs": [
        {
          "output_type": "execute_result",
          "data": {
            "text/plain": [
              "True"
            ]
          },
          "metadata": {},
          "execution_count": 29
        }
      ]
    },
    {
      "cell_type": "code",
      "source": [
        "4 not in posl_ocenok"
      ],
      "metadata": {
        "colab": {
          "base_uri": "https://localhost:8080/"
        },
        "id": "x6zhc9yf96Ow",
        "outputId": "6651d9ef-640e-4460-a818-99a52f07502a"
      },
      "execution_count": 30,
      "outputs": [
        {
          "output_type": "execute_result",
          "data": {
            "text/plain": [
              "False"
            ]
          },
          "metadata": {},
          "execution_count": 30
        }
      ]
    },
    {
      "cell_type": "code",
      "source": [
        "6 not in posl_ocenok"
      ],
      "metadata": {
        "colab": {
          "base_uri": "https://localhost:8080/"
        },
        "id": "GvevuUDy98sb",
        "outputId": "be905d12-b388-4c6c-8055-71dce5dd3ffc"
      },
      "execution_count": 31,
      "outputs": [
        {
          "output_type": "execute_result",
          "data": {
            "text/plain": [
              "True"
            ]
          },
          "metadata": {},
          "execution_count": 31
        }
      ]
    },
    {
      "cell_type": "code",
      "source": [
        "text = 'Alex'\n",
        "'A' in text"
      ],
      "metadata": {
        "colab": {
          "base_uri": "https://localhost:8080/"
        },
        "id": "ZppeG7_6-VRF",
        "outputId": "c2e98b54-6246-47e8-966b-c46595bf6c4d"
      },
      "execution_count": 32,
      "outputs": [
        {
          "output_type": "execute_result",
          "data": {
            "text/plain": [
              "True"
            ]
          },
          "metadata": {},
          "execution_count": 32
        }
      ]
    },
    {
      "cell_type": "code",
      "source": [
        "'l' in text"
      ],
      "metadata": {
        "colab": {
          "base_uri": "https://localhost:8080/"
        },
        "id": "shCP9zae-aqM",
        "outputId": "66cb62d7-aad4-4d0b-83ca-f500658729ac"
      },
      "execution_count": 33,
      "outputs": [
        {
          "output_type": "execute_result",
          "data": {
            "text/plain": [
              "True"
            ]
          },
          "metadata": {},
          "execution_count": 33
        }
      ]
    },
    {
      "cell_type": "code",
      "source": [
        "1 in range(2)"
      ],
      "metadata": {
        "colab": {
          "base_uri": "https://localhost:8080/"
        },
        "id": "zhwXNP2x-jC3",
        "outputId": "81fbee42-c339-4acc-cb9a-f208c5abe100"
      },
      "execution_count": 34,
      "outputs": [
        {
          "output_type": "execute_result",
          "data": {
            "text/plain": [
              "True"
            ]
          },
          "metadata": {},
          "execution_count": 34
        }
      ]
    },
    {
      "cell_type": "markdown",
      "source": [
        "# Поиск N максимальных и минимальных элементов"
      ],
      "metadata": {
        "id": "-3uMNm_i_nDP"
      }
    },
    {
      "cell_type": "code",
      "source": [
        "import heapq\n",
        "nums = [1, 8, 2, 23, 7, -4, 18, 23, 42, 37, 2]\n",
        "print(heapq.nlargest(3, nums)) # Выведет [42, 37, 23]\n",
        "print(heapq.nsmallest(3, nums)) # Выведет [-4, 1, 2]"
      ],
      "metadata": {
        "colab": {
          "base_uri": "https://localhost:8080/"
        },
        "id": "y2Y5hM2o_yhA",
        "outputId": "4a950cf4-7c9c-4c0a-c495-ad3f59668ba4"
      },
      "execution_count": 35,
      "outputs": [
        {
          "output_type": "stream",
          "name": "stdout",
          "text": [
            "[42, 37, 23]\n",
            "[-4, 1, 2]\n"
          ]
        }
      ]
    },
    {
      "cell_type": "code",
      "source": [
        "portfolio = [\n",
        "{'name': 'IBM', 'shares': 100, 'price': 91.1},\n",
        "{'name': 'AAPL', 'shares': 50, 'price': 543.22},\n",
        "{'name': 'FB', 'shares': 200, 'price': 21.09},\n",
        "{'name': 'HPQ', 'shares': 35, 'price': 31.75},\n",
        "{'name': 'YHOO', 'shares': 45, 'price': 16.35},\n",
        "{'name': 'ACME', 'shares': 75, 'price': 115.65}\n",
        "]\n",
        "cheap = heapq.nsmallest(3, portfolio, key=lambda s: s['price'])\n",
        "expensive = heapq.nlargest(3, portfolio, key=lambda s: s['price'])"
      ],
      "metadata": {
        "id": "k88HtgQb_3rc"
      },
      "execution_count": 36,
      "outputs": []
    },
    {
      "cell_type": "code",
      "source": [
        "cheap"
      ],
      "metadata": {
        "colab": {
          "base_uri": "https://localhost:8080/"
        },
        "id": "PInOPTAX_8jT",
        "outputId": "a0dbbc29-9e25-4fe0-caed-a3e7bb3efb48"
      },
      "execution_count": 37,
      "outputs": [
        {
          "output_type": "execute_result",
          "data": {
            "text/plain": [
              "[{'name': 'YHOO', 'shares': 45, 'price': 16.35},\n",
              " {'name': 'FB', 'shares': 200, 'price': 21.09},\n",
              " {'name': 'HPQ', 'shares': 35, 'price': 31.75}]"
            ]
          },
          "metadata": {},
          "execution_count": 37
        }
      ]
    },
    {
      "cell_type": "code",
      "source": [
        "expensive"
      ],
      "metadata": {
        "colab": {
          "base_uri": "https://localhost:8080/"
        },
        "id": "TDRi0kfW_9Sj",
        "outputId": "75a86d87-46e1-4087-88be-0857c8214530"
      },
      "execution_count": 38,
      "outputs": [
        {
          "output_type": "execute_result",
          "data": {
            "text/plain": [
              "[{'name': 'AAPL', 'shares': 50, 'price': 543.22},\n",
              " {'name': 'ACME', 'shares': 75, 'price': 115.65},\n",
              " {'name': 'IBM', 'shares': 100, 'price': 91.1}]"
            ]
          },
          "metadata": {},
          "execution_count": 38
        }
      ]
    },
    {
      "cell_type": "markdown",
      "source": [
        "# Вычисления со словарями"
      ],
      "metadata": {
        "id": "ExHSxMlQA1kt"
      }
    },
    {
      "cell_type": "code",
      "source": [
        "prices = {\n",
        "'ACME': 45.23,\n",
        "'AAPL': 612.78,\n",
        "'IBM': 205.55,\n",
        "'HPQ': 37.20,\n",
        "'FB': 10.75\n",
        "}"
      ],
      "metadata": {
        "id": "28LKb5_XA3oe"
      },
      "execution_count": 40,
      "outputs": []
    },
    {
      "cell_type": "code",
      "source": [
        "min(list(zip(prices.values(), prices.keys())))"
      ],
      "metadata": {
        "colab": {
          "base_uri": "https://localhost:8080/"
        },
        "id": "ntJmWuCRBHds",
        "outputId": "cf05d2c7-0f18-40ea-bb4d-c3589fb70c6e"
      },
      "execution_count": 44,
      "outputs": [
        {
          "output_type": "execute_result",
          "data": {
            "text/plain": [
              "(10.75, 'FB')"
            ]
          },
          "metadata": {},
          "execution_count": 44
        }
      ]
    },
    {
      "cell_type": "code",
      "source": [
        "min_price = min(zip(prices.values(), prices.keys()))\n",
        "# min_price – (10.75, 'FB')\n",
        "max_price = max(zip(prices.values(), prices.keys()))\n",
        "# max_price – (612.78, 'AAPL')"
      ],
      "metadata": {
        "id": "B4Rx-luGA_eb"
      },
      "execution_count": 41,
      "outputs": []
    },
    {
      "cell_type": "code",
      "source": [
        "prices_sorted = sorted(zip(prices.values(), prices.keys()))\n",
        "prices_sorted"
      ],
      "metadata": {
        "colab": {
          "base_uri": "https://localhost:8080/"
        },
        "id": "WJz0vFYZBVPn",
        "outputId": "1a9ca8fc-d68b-4a8f-89bb-7610f7690b9f"
      },
      "execution_count": 45,
      "outputs": [
        {
          "output_type": "execute_result",
          "data": {
            "text/plain": [
              "[(10.75, 'FB'),\n",
              " (37.2, 'HPQ'),\n",
              " (45.23, 'ACME'),\n",
              " (205.55, 'IBM'),\n",
              " (612.78, 'AAPL')]"
            ]
          },
          "metadata": {},
          "execution_count": 45
        }
      ]
    },
    {
      "cell_type": "code",
      "source": [
        "prices_sorted = sorted(zip(prices.values(), prices.keys()),reverse=True)\n",
        "prices_sorted"
      ],
      "metadata": {
        "colab": {
          "base_uri": "https://localhost:8080/"
        },
        "id": "Ctic7BpxBa05",
        "outputId": "ab918a43-811d-4e73-ffe7-da3d2849e527"
      },
      "execution_count": 46,
      "outputs": [
        {
          "output_type": "execute_result",
          "data": {
            "text/plain": [
              "[(612.78, 'AAPL'),\n",
              " (205.55, 'IBM'),\n",
              " (45.23, 'ACME'),\n",
              " (37.2, 'HPQ'),\n",
              " (10.75, 'FB')]"
            ]
          },
          "metadata": {},
          "execution_count": 46
        }
      ]
    }
  ]
}